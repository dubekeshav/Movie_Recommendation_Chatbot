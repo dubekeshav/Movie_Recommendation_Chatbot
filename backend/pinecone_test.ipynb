{
 "cells": [
  {
   "cell_type": "code",
   "execution_count": 1,
   "metadata": {},
   "outputs": [
    {
     "name": "stderr",
     "output_type": "stream",
     "text": [
      "/Library/Frameworks/Python.framework/Versions/3.13/lib/python3.13/site-packages/tqdm/auto.py:21: TqdmWarning: IProgress not found. Please update jupyter and ipywidgets. See https://ipywidgets.readthedocs.io/en/stable/user_install.html\n",
      "  from .autonotebook import tqdm as notebook_tqdm\n"
     ]
    }
   ],
   "source": [
    "import pinecone\n",
    "from pinecone import ServerlessSpec, Pinecone\n",
    "import os\n",
    "import time\n",
    "from dotenv import load_dotenv\n",
    "import pandas as pd\n",
    "from sentence_transformers import SentenceTransformer\n",
    "\n",
    "load_dotenv()\n",
    "\n",
    "PINECONE_API_KEY = os.getenv('PINECONE_API_KEY')\n",
    "\n",
    "if not PINECONE_API_KEY:\n",
    "    raise ValueError(\"PINECONE_API_KEY environment variable not set\")\n",
    "\n",
    "# Initialize Pinecone\n",
    "pc = Pinecone(api_key=PINECONE_API_KEY)\n",
    "\n",
    "# Create an index\n",
    "index_name = \"movies-actors\"\n",
    "if index_name not in pc.list_indexes().names():  # Corrected index name check\n",
    "    pc.create_index(\n",
    "    name=index_name,\n",
    "    vector_type=\"dense\",\n",
    "    dimension=384,\n",
    "    metric=\"cosine\",\n",
    "    spec=ServerlessSpec(\n",
    "        cloud=\"aws\",\n",
    "        region=\"us-east-1\"\n",
    "    ),\n",
    "    deletion_protection=\"disabled\",\n",
    "    tags={\n",
    "        \"environment\": \"development\"\n",
    "    }\n",
    ")\n",
    "    while index_name not in pc.list_indexes().names(): #wait until index is created.\n",
    "        time.sleep(1)\n",
    "\n"
   ]
  },
  {
   "cell_type": "code",
   "execution_count": 2,
   "metadata": {},
   "outputs": [],
   "source": [
    "# Connect to the index\n",
    "index = pc.Index(index_name)\n",
    "# Load embedding model\n",
    "model = SentenceTransformer(\"all-MiniLM-L6-v2\")"
   ]
  },
  {
   "cell_type": "code",
   "execution_count": 7,
   "metadata": {},
   "outputs": [
    {
     "name": "stdout",
     "output_type": "stream",
     "text": [
      "{'matches': [{'id': 'nm0085481',\n",
      "              'metadata': {'knownFor': 'tt0099260', 'name': 'Rip Black'},\n",
      "              'score': 0.408161283,\n",
      "              'values': []},\n",
      "             {'id': 'nm0063610',\n",
      "              'metadata': {'knownFor': '\\\\N', 'name': 'Ethel Beal'},\n",
      "              'score': 0.373275131,\n",
      "              'values': []},\n",
      "             {'id': 'nm0091328',\n",
      "              'metadata': {'knownFor': 'tt0117554', 'name': 'Leroy Boerger'},\n",
      "              'score': 0.372418225,\n",
      "              'values': []},\n",
      "             {'id': 'nm0041372',\n",
      "              'metadata': {'knownFor': 'tt0041710,tt0044025,tt0140975',\n",
      "                           'name': 'Robert Auboyneau'},\n",
      "              'score': 0.364476055,\n",
      "              'values': []},\n",
      "             {'id': 'nm0020759',\n",
      "              'metadata': {'knownFor': 'tt0142192,tt0167837,tt0216772,tt0279721',\n",
      "                           'name': 'LeRoy Allen'},\n",
      "              'score': 0.356951088,\n",
      "              'values': []}],\n",
      " 'namespace': '',\n",
      " 'usage': {'read_units': 6}}\n"
     ]
    }
   ],
   "source": [
    "query = model.encode(\"died in 1980\").tolist()\n",
    "\n",
    "response = index.query(\n",
    "    vector=query,\n",
    "    top_k=5,  # Retrieve top 5 similar movies\n",
    "    include_metadata=True\n",
    ")\n",
    "\n",
    "print(response)"
   ]
  }
 ],
 "metadata": {
  "kernelspec": {
   "display_name": "Python 3",
   "language": "python",
   "name": "python3"
  },
  "language_info": {
   "codemirror_mode": {
    "name": "ipython",
    "version": 3
   },
   "file_extension": ".py",
   "mimetype": "text/x-python",
   "name": "python",
   "nbconvert_exporter": "python",
   "pygments_lexer": "ipython3",
   "version": "3.13.2"
  }
 },
 "nbformat": 4,
 "nbformat_minor": 2
}
