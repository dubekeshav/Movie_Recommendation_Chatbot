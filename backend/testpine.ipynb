{
 "cells": [
  {
   "cell_type": "code",
   "execution_count": 1,
   "metadata": {},
   "outputs": [
    {
     "name": "stderr",
     "output_type": "stream",
     "text": [
      "/Library/Frameworks/Python.framework/Versions/3.13/lib/python3.13/site-packages/pinecone/data/index.py:1: TqdmWarning: IProgress not found. Please update jupyter and ipywidgets. See https://ipywidgets.readthedocs.io/en/stable/user_install.html\n",
      "  from tqdm.autonotebook import tqdm\n"
     ]
    },
    {
     "name": "stdout",
     "output_type": "stream",
     "text": [
      "Retrieved Row: {'id': 'tt1449385',\n",
      " 'metadata': {'actor': 'Josh Craig,M. Scott Taulman,Michael G. Kaiser,Michael '\n",
      "                       'Cook,Christopher R. Mihm,Mitch Obrecht',\n",
      "              'actress': 'Catherine Hansen,Stephanie Mihm,Shannon '\n",
      "                         'McDonough,Sid Korpi',\n",
      "              'averageRating': '5.5',\n",
      "              'director': 'Christopher R. Mihm',\n",
      "              'endYear': '',\n",
      "              'genres': 'Adventure,Sci-Fi',\n",
      "              'isAdult': 'True',\n",
      "              'numVotes': '84.0',\n",
      "              'originalTitle': 'Destination: Outer Space',\n",
      "              'primaryTitle': 'Destination: Outer Space',\n",
      "              'producer': 'Josh Craig,Christopher R. Mihm',\n",
      "              'runtimeMinutes': '94',\n",
      "              'startYear': '2010.0',\n",
      "              'tconst': 'tt1449385',\n",
      "              'titleType': 'movie',\n",
      "              'writer': 'Josh Craig,Christopher R. Mihm'},\n",
      " 'score': 0.74891144,\n",
      " 'values': []}\n"
     ]
    }
   ],
   "source": [
    "import os\n",
    "import logging\n",
    "from pinecone import Pinecone\n",
    "from langchain_pinecone import Pinecone as PineconeVectorStore\n",
    "from langchain_huggingface import HuggingFaceEmbeddings\n",
    "\n",
    "# Load environment variables\n",
    "PINECONE_API_KEY = os.getenv('PINECONE_API_KEY')\n",
    "PINECONE_INDEX_NAME = \"movies-actors\"\n",
    "\n",
    "# Initialize Pinecone client\n",
    "logging.info(\"Initializing Pinecone client...\")\n",
    "pc = Pinecone(api_key=PINECONE_API_KEY)\n",
    "index = pc.Index(PINECONE_INDEX_NAME)\n",
    "\n",
    "# Initialize embedding model\n",
    "logging.info(\"Initializing embeddings model...\")\n",
    "embeddings_model = HuggingFaceEmbeddings(model_name='all-MiniLM-L6-v2')\n",
    "\n",
    "def retrieve_single_row(query_text: str, top_k: int = 1):\n",
    "    \"\"\"\n",
    "    Retrieves a single row (or top-k results) from Pinecone based on a query.\n",
    "    \"\"\"\n",
    "    # Convert query text to embedding\n",
    "    query_embedding = embeddings_model.embed_query(query_text)\n",
    "    \n",
    "    # Search Pinecone index\n",
    "    logging.info(f\"Searching Pinecone for query: {query_text}\")\n",
    "    search_results = index.query(vector=query_embedding, top_k=top_k, include_metadata=True)\n",
    "\n",
    "    # Extract and return results\n",
    "    if search_results and \"matches\" in search_results and search_results[\"matches\"]:\n",
    "        best_match = search_results[\"matches\"][0]  # Retrieve the highest-ranked match\n",
    "        logging.info(f\"Best match: {best_match}\")\n",
    "        return best_match\n",
    "    else:\n",
    "        logging.warning(\"No matching results found.\")\n",
    "        return None\n",
    "\n",
    "# Example usage\n",
    "if __name__ == \"__main__\":\n",
    "    query = \"A sci-fi movie about space travel\"\n",
    "    result = retrieve_single_row(query)\n",
    "    print(\"Retrieved Row:\", result)"
   ]
  }
 ],
 "metadata": {
  "kernelspec": {
   "display_name": "Python 3",
   "language": "python",
   "name": "python3"
  },
  "language_info": {
   "codemirror_mode": {
    "name": "ipython",
    "version": 3
   },
   "file_extension": ".py",
   "mimetype": "text/x-python",
   "name": "python",
   "nbconvert_exporter": "python",
   "pygments_lexer": "ipython3",
   "version": "3.13.2"
  }
 },
 "nbformat": 4,
 "nbformat_minor": 2
}
