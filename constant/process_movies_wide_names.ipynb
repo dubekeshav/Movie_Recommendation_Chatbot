{
 "cells": [
  {
   "cell_type": "code",
   "execution_count": 2,
   "metadata": {},
   "outputs": [
    {
     "name": "stdout",
     "output_type": "stream",
     "text": [
      "Error: The directory 'constant' does not exist.\n"
     ]
    }
   ],
   "source": [
    "import pandas as pd\n",
    "import os\n",
    "\n",
    "# Define the correct file paths\n",
    "output_directory = \"constant\"  # Ensure this directory exists\n",
    "\n",
    "movies_csv_file = os.path.join(output_directory, \"movies_combined_wide.csv\")\n",
    "names_tsv_file = os.path.join(output_directory, \"name_basics.tsv\")\n",
    "\n",
    "# Check if the directory exists\n",
    "if not os.path.exists(output_directory):\n",
    "    print(f\"Error: The directory '{output_directory}' does not exist.\")\n",
    "else:\n",
    "    # Read the CSV file if it exists\n",
    "    if os.path.exists(movies_csv_file):\n",
    "        movies_df = pd.read_csv(movies_csv_file)\n",
    "    else:\n",
    "        print(f\"Error: File not found - {movies_csv_file}\")\n",
    "        movies_df = None\n",
    "\n",
    "    # Read the TSV file if it exists\n",
    "    if os.path.exists(names_tsv_file):\n",
    "        names_df = pd.read_csv(names_tsv_file, sep=\"\\t\")\n",
    "    else:\n",
    "        print(f\"Error: File not found - {names_tsv_file}\")\n",
    "        names_df = None\n",
    "\n",
    "    # Drop specified columns if names_df is loaded\n",
    "    if names_df is not None:\n",
    "        drop_columns = [\"birthYear\", \"deathYear\", \"primaryProfession\", \"knownForTitles\"]\n",
    "        names_df = names_df.drop(columns=drop_columns, errors=\"ignore\")\n",
    "\n",
    "    # Print head of DataFrames if they exist\n",
    "    if movies_df is not None:\n",
    "        print(movies_df.head())\n",
    "    if names_df is not None:\n",
    "        print(names_df.head())"
   ]
  },
  {
   "cell_type": "code",
   "execution_count": null,
   "metadata": {},
   "outputs": [],
   "source": []
  }
 ],
 "metadata": {
  "kernelspec": {
   "display_name": "Python 3",
   "language": "python",
   "name": "python3"
  },
  "language_info": {
   "codemirror_mode": {
    "name": "ipython",
    "version": 3
   },
   "file_extension": ".py",
   "mimetype": "text/x-python",
   "name": "python",
   "nbconvert_exporter": "python",
   "pygments_lexer": "ipython3",
   "version": "3.13.2"
  }
 },
 "nbformat": 4,
 "nbformat_minor": 2
}
