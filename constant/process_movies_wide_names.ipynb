{
 "cells": [
  {
   "cell_type": "code",
   "execution_count": 6,
   "metadata": {},
   "outputs": [
    {
     "name": "stdout",
     "output_type": "stream",
     "text": [
      "Data loaded successfully\n",
      "          tconst titleType                      primaryTitle  \\\n",
      "11631  tt0011801     movie                  Tötet nicht mehr   \n",
      "49483  tt0050396     short                     Final Curtain   \n",
      "55746  tt0056840     short                          Aufsätze   \n",
      "56269  tt0057369     short  Number 14: Late Superimpositions   \n",
      "59190  tt0060361     short                          EMS nr 1   \n",
      "\n",
      "                          originalTitle  isAdult  startYear  endYear  \\\n",
      "11631                  Tötet nicht mehr     True     2019.0      NaN   \n",
      "49483                     Final Curtain     True     2012.0      NaN   \n",
      "55746                          Aufsätze     True     2021.0      NaN   \n",
      "56269  Number 14: Late Superimpositions     True     2023.0      NaN   \n",
      "59190                          EMS nr 1     True     2016.0      NaN   \n",
      "\n",
      "      runtimeMinutes        genres  averageRating  numVotes  \\\n",
      "11631             \\N  Action,Crime            NaN       NaN   \n",
      "49483             22  Horror,Short            4.6     250.0   \n",
      "55746             10         Short            6.8      97.0   \n",
      "56269             30         Short            5.6      73.0   \n",
      "59190             14         Short            6.5       6.0   \n",
      "\n",
      "                                                   actor              actress  \\\n",
      "11631  nm0681726,nm0726256,nm0776458,nm0666006,nm0745...  nm0692612,nm0476130   \n",
      "49483                                nm0601146,nm0542611            nm0828475   \n",
      "55746                                                NaN                  NaN   \n",
      "56269                                                NaN                  NaN   \n",
      "59190                                                NaN                  NaN   \n",
      "\n",
      "        director   producer                         writer  \n",
      "11631  nm0681726  nm0681726            nm0483944,nm0681726  \n",
      "49483  nm0000248  nm0000248                      nm0000248  \n",
      "55746  nm0626561        NaN  nm1600844,nm0626561,nm1600304  \n",
      "56269  nm0808421        NaN                            NaN  \n",
      "59190  nm0526609        NaN                            NaN  \n"
     ]
    }
   ],
   "source": [
    "import pandas as pd\n",
    "import os\n",
    "\n",
    "movies_csv_file = os.path.join(\"movies_combined_wide.csv\")\n",
    "\n",
    "# Read the CSV file if it exists\n",
    "if os.path.exists(movies_csv_file):\n",
    "    movies_df = pd.read_csv(movies_csv_file)\n",
    "    movies_df[\"startYear\"] = pd.to_numeric(movies_df[\"startYear\"], errors=\"coerce\")\n",
    "    # Filter out rows where 'startYear' is before 2000\n",
    "    movies_df = movies_df[movies_df[\"startYear\"] >= 2010]\n",
    "else:\n",
    "    print(f\"Error: File not found - {movies_csv_file}\")\n",
    "    movies_df = None\n",
    "print(\"Data loaded successfully\")\n",
    "print(movies_df.head())\n"
   ]
  },
  {
   "cell_type": "code",
   "execution_count": 7,
   "metadata": {},
   "outputs": [],
   "source": [
    "# Read the TSV file if it exists\n",
    "names_tsv_file = os.path.join(\"name.basics.tsv\")\n",
    "if os.path.exists(names_tsv_file):\n",
    "    names_df = pd.read_csv(names_tsv_file, sep=\"\\t\")\n",
    "else:\n",
    "    print(f\"Error: File not found - {names_tsv_file}\")\n",
    "    names_df = None\n",
    "\n",
    "# Drop specified columns if names_df is loaded\n",
    "if names_df is not None:\n",
    "    drop_columns = [\"birthYear\", \"deathYear\", \"primaryProfession\", \"knownForTitles\"]\n",
    "    names_df = names_df.drop(columns=drop_columns, errors=\"ignore\")\n"
   ]
  },
  {
   "cell_type": "code",
   "execution_count": 10,
   "metadata": {},
   "outputs": [
    {
     "name": "stdout",
     "output_type": "stream",
     "text": [
      "Updated Movies DataFrame with Names:\n",
      "          tconst titleType                      primaryTitle  \\\n",
      "11631  tt0011801     movie                  Tötet nicht mehr   \n",
      "49483  tt0050396     short                     Final Curtain   \n",
      "55746  tt0056840     short                          Aufsätze   \n",
      "56269  tt0057369     short  Number 14: Late Superimpositions   \n",
      "59190  tt0060361     short                          EMS nr 1   \n",
      "\n",
      "                          originalTitle  isAdult  startYear  endYear  \\\n",
      "11631                  Tötet nicht mehr     True     2019.0      NaN   \n",
      "49483                     Final Curtain     True     2012.0      NaN   \n",
      "55746                          Aufsätze     True     2021.0      NaN   \n",
      "56269  Number 14: Late Superimpositions     True     2023.0      NaN   \n",
      "59190                          EMS nr 1     True     2016.0      NaN   \n",
      "\n",
      "      runtimeMinutes        genres  averageRating  numVotes  \\\n",
      "11631             \\N  Action,Crime            NaN       NaN   \n",
      "49483             22  Horror,Short            4.6     250.0   \n",
      "55746             10         Short            6.8      97.0   \n",
      "56269             30         Short            5.6      73.0   \n",
      "59190             14         Short            6.5       6.0   \n",
      "\n",
      "                                                   actor  \\\n",
      "11631  Lupu Pick,Johannes Riemann,Fritz Schulz,Albert...   \n",
      "49483                          Duke Moore,Dudley Manlove   \n",
      "55746                                               None   \n",
      "56269                                               None   \n",
      "59190                                               None   \n",
      "\n",
      "                       actress            director            producer  \\\n",
      "11631  Edith Posca,Emilie Kurz           Lupu Pick           Lupu Pick   \n",
      "49483          Jeannie Stevens  Edward D. Wood Jr.  Edward D. Wood Jr.   \n",
      "55746                     None       Peter Nestler                None   \n",
      "56269                     None         Harry Smith                None   \n",
      "59190                     None      Ralph Lundsten                None   \n",
      "\n",
      "                                           writer  \n",
      "11631                 Gerhard Lamprecht,Lupu Pick  \n",
      "49483                          Edward D. Wood Jr.  \n",
      "55746  Marianne Beutler,Peter Nestler,Kurt Ulrich  \n",
      "56269                                        None  \n",
      "59190                                        None  \n"
     ]
    }
   ],
   "source": [
    "if movies_df is not None and names_df is not None:\n",
    "    # Create a mapping dictionary: {nconst: primaryName}\n",
    "    name_mapping = {str(nconst): str(name) for nconst, name in zip(names_df[\"nconst\"], names_df[\"primaryName\"])}\n",
    "\n",
    "    # Function to replace nconst values with primary names safely\n",
    "    def replace_nconst_with_name(nconst_list):\n",
    "        if pd.isna(nconst_list):  # Handle NaN values\n",
    "            return None  # Keeps it as NaN\n",
    "        nconst_list = str(nconst_list)  # Convert to string if it's a number/float\n",
    "        return \",\".join([name_mapping.get(nconst.strip(), nconst.strip()) for nconst in nconst_list.split(\",\")])\n",
    "\n",
    "    # Replace nconst values in the relevant columns\n",
    "    for column in [\"actor\", \"actress\", \"director\", \"producer\", \"writer\"]:\n",
    "        if column in movies_df.columns:\n",
    "            movies_df[column] = movies_df[column].apply(replace_nconst_with_name)\n",
    "\n",
    "    # Display the updated DataFrame\n",
    "    print(\"Updated Movies DataFrame with Names:\")\n",
    "    print(movies_df.head())\n",
    "\n",
    "    # Optionally, save the updated DataFrame to a new CSV file\n",
    "    #movies_df.to_csv(os.path.join(\"movies_with_names.csv\"), index=False)"
   ]
  },
  {
   "cell_type": "code",
   "execution_count": 3,
   "metadata": {},
   "outputs": [],
   "source": [
    "\n",
    "import pandas as pd\n",
    "\n",
    "# Load the data\n",
    "df = pd.read_csv('movies_with_names.csv')\n",
    "movies_df = df[df['titleType'] == 'movie']\n",
    "movies_first_5000 = movies_df.head(500000)\n",
    "\n",
    "# Optional: Save these rows to a new CSV file or process further\n",
    "movies_first_5000.to_csv('first_5000_movies.csv', index=False)"
   ]
  },
  {
   "cell_type": "code",
   "execution_count": 4,
   "metadata": {},
   "outputs": [
    {
     "name": "stdout",
     "output_type": "stream",
     "text": [
      "Data has been saved to output_movies.txt\n"
     ]
    }
   ],
   "source": [
    "import pandas as pd\n",
    "import csv\n",
    "from io import StringIO\n",
    "\n",
    "# Read the first 5000 movies data from the CSV file\n",
    "df = pd.read_csv('first_5000_movies.csv')\n",
    "\n",
    "# Convert the DataFrame to a CSV string with '^' as the delimiter and force quotes on all fields\n",
    "output = StringIO()\n",
    "df.to_csv(output, sep='^', index=False, quoting=csv.QUOTE_ALL)\n",
    "result_string = output.getvalue()\n",
    "\n",
    "# Save the resulting string to a new file\n",
    "with open('output_movies.txt', 'w') as f:\n",
    "    f.write(result_string)\n",
    "\n",
    "print(\"Data has been saved to output_movies.txt\")"
   ]
  }
 ],
 "metadata": {
  "kernelspec": {
   "display_name": "Python 3",
   "language": "python",
   "name": "python3"
  },
  "language_info": {
   "codemirror_mode": {
    "name": "ipython",
    "version": 3
   },
   "file_extension": ".py",
   "mimetype": "text/x-python",
   "name": "python",
   "nbconvert_exporter": "python",
   "pygments_lexer": "ipython3",
   "version": "3.13.2"
  }
 },
 "nbformat": 4,
 "nbformat_minor": 2
}
