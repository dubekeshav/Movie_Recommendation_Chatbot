{
 "cells": [
  {
   "cell_type": "markdown",
   "metadata": {},
   "source": [
    "# Installing libraries"
   ]
  },
  {
   "cell_type": "code",
   "execution_count": null,
   "metadata": {},
   "outputs": [
    {
     "name": "stdout",
     "output_type": "stream",
     "text": [
      "Requirement already satisfied: langchain-text-splitters in c:\\users\\harry\\miniconda3\\envs\\finance_chatbot\\lib\\site-packages (0.3.6)\n",
      "Requirement already satisfied: langchain-community in c:\\users\\harry\\miniconda3\\envs\\finance_chatbot\\lib\\site-packages (0.3.18)\n",
      "Requirement already satisfied: langgraph in c:\\users\\harry\\miniconda3\\envs\\finance_chatbot\\lib\\site-packages (0.3.2)\n",
      "Requirement already satisfied: langchain-core<1.0.0,>=0.3.34 in c:\\users\\harry\\miniconda3\\envs\\finance_chatbot\\lib\\site-packages (from langchain-text-splitters) (0.3.40)\n",
      "Requirement already satisfied: langchain<1.0.0,>=0.3.19 in c:\\users\\harry\\miniconda3\\envs\\finance_chatbot\\lib\\site-packages (from langchain-community) (0.3.19)\n",
      "Requirement already satisfied: SQLAlchemy<3,>=1.4 in c:\\users\\harry\\miniconda3\\envs\\finance_chatbot\\lib\\site-packages (from langchain-community) (2.0.38)\n",
      "Requirement already satisfied: requests<3,>=2 in c:\\users\\harry\\miniconda3\\envs\\finance_chatbot\\lib\\site-packages (from langchain-community) (2.32.3)\n",
      "Requirement already satisfied: PyYAML>=5.3 in c:\\users\\harry\\miniconda3\\envs\\finance_chatbot\\lib\\site-packages (from langchain-community) (6.0.2)\n",
      "Requirement already satisfied: aiohttp<4.0.0,>=3.8.3 in c:\\users\\harry\\miniconda3\\envs\\finance_chatbot\\lib\\site-packages (from langchain-community) (3.11.13)\n",
      "Requirement already satisfied: tenacity!=8.4.0,<10,>=8.1.0 in c:\\users\\harry\\miniconda3\\envs\\finance_chatbot\\lib\\site-packages (from langchain-community) (9.0.0)\n",
      "Requirement already satisfied: dataclasses-json<0.7,>=0.5.7 in c:\\users\\harry\\miniconda3\\envs\\finance_chatbot\\lib\\site-packages (from langchain-community) (0.6.7)\n",
      "Requirement already satisfied: pydantic-settings<3.0.0,>=2.4.0 in c:\\users\\harry\\miniconda3\\envs\\finance_chatbot\\lib\\site-packages (from langchain-community) (2.8.1)\n",
      "Requirement already satisfied: langsmith<0.4,>=0.1.125 in c:\\users\\harry\\miniconda3\\envs\\finance_chatbot\\lib\\site-packages (from langchain-community) (0.3.11)\n",
      "Requirement already satisfied: httpx-sse<1.0.0,>=0.4.0 in c:\\users\\harry\\miniconda3\\envs\\finance_chatbot\\lib\\site-packages (from langchain-community) (0.4.0)\n",
      "Requirement already satisfied: numpy<2,>=1.26.4 in c:\\users\\harry\\miniconda3\\envs\\finance_chatbot\\lib\\site-packages (from langchain-community) (1.26.4)\n",
      "Requirement already satisfied: langgraph-checkpoint<3.0.0,>=2.0.10 in c:\\users\\harry\\miniconda3\\envs\\finance_chatbot\\lib\\site-packages (from langgraph) (2.0.16)\n",
      "Requirement already satisfied: langgraph-prebuilt<0.2,>=0.1.1 in c:\\users\\harry\\miniconda3\\envs\\finance_chatbot\\lib\\site-packages (from langgraph) (0.1.1)\n",
      "Requirement already satisfied: langgraph-sdk<0.2.0,>=0.1.42 in c:\\users\\harry\\miniconda3\\envs\\finance_chatbot\\lib\\site-packages (from langgraph) (0.1.53)\n",
      "Requirement already satisfied: aiohappyeyeballs>=2.3.0 in c:\\users\\harry\\miniconda3\\envs\\finance_chatbot\\lib\\site-packages (from aiohttp<4.0.0,>=3.8.3->langchain-community) (2.4.6)\n",
      "Requirement already satisfied: aiosignal>=1.1.2 in c:\\users\\harry\\miniconda3\\envs\\finance_chatbot\\lib\\site-packages (from aiohttp<4.0.0,>=3.8.3->langchain-community) (1.3.2)\n",
      "Requirement already satisfied: async-timeout<6.0,>=4.0 in c:\\users\\harry\\miniconda3\\envs\\finance_chatbot\\lib\\site-packages (from aiohttp<4.0.0,>=3.8.3->langchain-community) (4.0.3)\n",
      "Requirement already satisfied: attrs>=17.3.0 in c:\\users\\harry\\miniconda3\\envs\\finance_chatbot\\lib\\site-packages (from aiohttp<4.0.0,>=3.8.3->langchain-community) (25.1.0)\n",
      "Requirement already satisfied: frozenlist>=1.1.1 in c:\\users\\harry\\miniconda3\\envs\\finance_chatbot\\lib\\site-packages (from aiohttp<4.0.0,>=3.8.3->langchain-community) (1.5.0)\n",
      "Requirement already satisfied: multidict<7.0,>=4.5 in c:\\users\\harry\\miniconda3\\envs\\finance_chatbot\\lib\\site-packages (from aiohttp<4.0.0,>=3.8.3->langchain-community) (6.1.0)\n",
      "Requirement already satisfied: propcache>=0.2.0 in c:\\users\\harry\\miniconda3\\envs\\finance_chatbot\\lib\\site-packages (from aiohttp<4.0.0,>=3.8.3->langchain-community) (0.3.0)\n",
      "Requirement already satisfied: yarl<2.0,>=1.17.0 in c:\\users\\harry\\miniconda3\\envs\\finance_chatbot\\lib\\site-packages (from aiohttp<4.0.0,>=3.8.3->langchain-community) (1.18.3)\n",
      "Requirement already satisfied: marshmallow<4.0.0,>=3.18.0 in c:\\users\\harry\\miniconda3\\envs\\finance_chatbot\\lib\\site-packages (from dataclasses-json<0.7,>=0.5.7->langchain-community) (3.26.1)\n",
      "Requirement already satisfied: typing-inspect<1,>=0.4.0 in c:\\users\\harry\\miniconda3\\envs\\finance_chatbot\\lib\\site-packages (from dataclasses-json<0.7,>=0.5.7->langchain-community) (0.9.0)\n",
      "Requirement already satisfied: pydantic<3.0.0,>=2.7.4 in c:\\users\\harry\\miniconda3\\envs\\finance_chatbot\\lib\\site-packages (from langchain<1.0.0,>=0.3.19->langchain-community) (2.10.6)\n",
      "Requirement already satisfied: jsonpatch<2.0,>=1.33 in c:\\users\\harry\\miniconda3\\envs\\finance_chatbot\\lib\\site-packages (from langchain-core<1.0.0,>=0.3.34->langchain-text-splitters) (1.33)\n",
      "Requirement already satisfied: packaging<25,>=23.2 in c:\\users\\harry\\miniconda3\\envs\\finance_chatbot\\lib\\site-packages (from langchain-core<1.0.0,>=0.3.34->langchain-text-splitters) (24.2)\n",
      "Requirement already satisfied: typing-extensions>=4.7 in c:\\users\\harry\\miniconda3\\envs\\finance_chatbot\\lib\\site-packages (from langchain-core<1.0.0,>=0.3.34->langchain-text-splitters) (4.12.2)\n",
      "Requirement already satisfied: msgpack<2.0.0,>=1.1.0 in c:\\users\\harry\\miniconda3\\envs\\finance_chatbot\\lib\\site-packages (from langgraph-checkpoint<3.0.0,>=2.0.10->langgraph) (1.1.0)\n",
      "Requirement already satisfied: httpx>=0.25.2 in c:\\users\\harry\\miniconda3\\envs\\finance_chatbot\\lib\\site-packages (from langgraph-sdk<0.2.0,>=0.1.42->langgraph) (0.28.1)\n",
      "Requirement already satisfied: orjson>=3.10.1 in c:\\users\\harry\\miniconda3\\envs\\finance_chatbot\\lib\\site-packages (from langgraph-sdk<0.2.0,>=0.1.42->langgraph) (3.10.15)\n",
      "Requirement already satisfied: requests-toolbelt<2.0.0,>=1.0.0 in c:\\users\\harry\\miniconda3\\envs\\finance_chatbot\\lib\\site-packages (from langsmith<0.4,>=0.1.125->langchain-community) (1.0.0)\n",
      "Requirement already satisfied: zstandard<0.24.0,>=0.23.0 in c:\\users\\harry\\miniconda3\\envs\\finance_chatbot\\lib\\site-packages (from langsmith<0.4,>=0.1.125->langchain-community) (0.23.0)\n",
      "Requirement already satisfied: python-dotenv>=0.21.0 in c:\\users\\harry\\miniconda3\\envs\\finance_chatbot\\lib\\site-packages (from pydantic-settings<3.0.0,>=2.4.0->langchain-community) (1.0.1)\n",
      "Requirement already satisfied: charset-normalizer<4,>=2 in c:\\users\\harry\\miniconda3\\envs\\finance_chatbot\\lib\\site-packages (from requests<3,>=2->langchain-community) (3.4.1)\n",
      "Requirement already satisfied: idna<4,>=2.5 in c:\\users\\harry\\miniconda3\\envs\\finance_chatbot\\lib\\site-packages (from requests<3,>=2->langchain-community) (3.10)\n",
      "Requirement already satisfied: urllib3<3,>=1.21.1 in c:\\users\\harry\\miniconda3\\envs\\finance_chatbot\\lib\\site-packages (from requests<3,>=2->langchain-community) (2.3.0)\n",
      "Requirement already satisfied: certifi>=2017.4.17 in c:\\users\\harry\\miniconda3\\envs\\finance_chatbot\\lib\\site-packages (from requests<3,>=2->langchain-community) (2025.1.31)\n",
      "Requirement already satisfied: greenlet!=0.4.17 in c:\\users\\harry\\miniconda3\\envs\\finance_chatbot\\lib\\site-packages (from SQLAlchemy<3,>=1.4->langchain-community) (3.1.1)\n",
      "Requirement already satisfied: anyio in c:\\users\\harry\\miniconda3\\envs\\finance_chatbot\\lib\\site-packages (from httpx>=0.25.2->langgraph-sdk<0.2.0,>=0.1.42->langgraph) (4.8.0)\n",
      "Requirement already satisfied: httpcore==1.* in c:\\users\\harry\\miniconda3\\envs\\finance_chatbot\\lib\\site-packages (from httpx>=0.25.2->langgraph-sdk<0.2.0,>=0.1.42->langgraph) (1.0.7)\n",
      "Requirement already satisfied: h11<0.15,>=0.13 in c:\\users\\harry\\miniconda3\\envs\\finance_chatbot\\lib\\site-packages (from httpcore==1.*->httpx>=0.25.2->langgraph-sdk<0.2.0,>=0.1.42->langgraph) (0.14.0)\n",
      "Requirement already satisfied: jsonpointer>=1.9 in c:\\users\\harry\\miniconda3\\envs\\finance_chatbot\\lib\\site-packages (from jsonpatch<2.0,>=1.33->langchain-core<1.0.0,>=0.3.34->langchain-text-splitters) (3.0.0)\n",
      "Requirement already satisfied: annotated-types>=0.6.0 in c:\\users\\harry\\miniconda3\\envs\\finance_chatbot\\lib\\site-packages (from pydantic<3.0.0,>=2.7.4->langchain<1.0.0,>=0.3.19->langchain-community) (0.7.0)\n",
      "Requirement already satisfied: pydantic-core==2.27.2 in c:\\users\\harry\\miniconda3\\envs\\finance_chatbot\\lib\\site-packages (from pydantic<3.0.0,>=2.7.4->langchain<1.0.0,>=0.3.19->langchain-community) (2.27.2)\n",
      "Requirement already satisfied: mypy-extensions>=0.3.0 in c:\\users\\harry\\miniconda3\\envs\\finance_chatbot\\lib\\site-packages (from typing-inspect<1,>=0.4.0->dataclasses-json<0.7,>=0.5.7->langchain-community) (1.0.0)\n",
      "Requirement already satisfied: exceptiongroup>=1.0.2 in c:\\users\\harry\\miniconda3\\envs\\finance_chatbot\\lib\\site-packages (from anyio->httpx>=0.25.2->langgraph-sdk<0.2.0,>=0.1.42->langgraph) (1.2.2)\n",
      "Requirement already satisfied: sniffio>=1.1 in c:\\users\\harry\\miniconda3\\envs\\finance_chatbot\\lib\\site-packages (from anyio->httpx>=0.25.2->langgraph-sdk<0.2.0,>=0.1.42->langgraph) (1.3.1)\n",
      "Note: you may need to restart the kernel to use updated packages.\n"
     ]
    }
   ],
   "source": [
    "%pip install langchain-text-splitters langchain-community langgraph"
   ]
  },
  {
   "cell_type": "markdown",
   "metadata": {},
   "source": [
    "# Langsmith initialization\n",
    "Setting up Langsmith for application tracing"
   ]
  },
  {
   "cell_type": "code",
   "execution_count": 2,
   "metadata": {},
   "outputs": [],
   "source": [
    "import getpass\n",
    "import os\n",
    "\n",
    "# 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\n",
    "os.environ['LANGSMITH_TRACING'] = 'true'\n",
    "os.environ['LANGSMITH_API_KEY'] = getpass.getpass('Enter your Langsmith API Key:')"
   ]
  },
  {
   "cell_type": "markdown",
   "metadata": {},
   "source": [
    "# Initializing Chat Model\n",
    "Here, I am using groq to call for the llm chatbots"
   ]
  },
  {
   "cell_type": "markdown",
   "metadata": {},
   "source": [
    "## Installing groq library from langchain"
   ]
  },
  {
   "cell_type": "code",
   "execution_count": 3,
   "metadata": {},
   "outputs": [
    {
     "name": "stdout",
     "output_type": "stream",
     "text": [
      "Note: you may need to restart the kernel to use updated packages.\n"
     ]
    }
   ],
   "source": [
    "%pip install -qU \"langchain[groq]\" langchain"
   ]
  },
  {
   "cell_type": "code",
   "execution_count": 3,
   "metadata": {},
   "outputs": [],
   "source": [
    "from langchain.chat_models import init_chat_model\n",
    "\n",
    "# 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\n",
    "if not os.environ.get('GROQ_API_KEY') :\n",
    "    os.environ['GROQ_API_KEY'] = getpass.getpass('Enter you groq API Key: ')\n",
    "    \n",
    "llm = init_chat_model(model = 'llama3-8b-8192', model_provider = 'groq')"
   ]
  },
  {
   "cell_type": "markdown",
   "metadata": {},
   "source": [
    "# Initializing Embeddings Model\n",
    "Here I am going for the Embedding model by hugging face which is 'all-MiniLM-L6-v2'"
   ]
  },
  {
   "cell_type": "markdown",
   "metadata": {},
   "source": [
    "## Installing the hugging face library from langchain"
   ]
  },
  {
   "cell_type": "code",
   "execution_count": 5,
   "metadata": {
    "vscode": {
     "languageId": "shellscript"
    }
   },
   "outputs": [
    {
     "name": "stdout",
     "output_type": "stream",
     "text": [
      "Note: you may need to restart the kernel to use updated packages.\n"
     ]
    }
   ],
   "source": [
    "pip install -qU langchain-huggingface"
   ]
  },
  {
   "cell_type": "code",
   "execution_count": 6,
   "metadata": {},
   "outputs": [
    {
     "name": "stderr",
     "output_type": "stream",
     "text": [
      "c:\\Users\\harry\\miniconda3\\envs\\Finance_Chatbot\\lib\\site-packages\\tqdm\\auto.py:21: TqdmWarning: IProgress not found. Please update jupyter and ipywidgets. See https://ipywidgets.readthedocs.io/en/stable/user_install.html\n",
      "  from .autonotebook import tqdm as notebook_tqdm\n"
     ]
    }
   ],
   "source": [
    "from langchain_huggingface import HuggingFaceEmbeddings\n",
    "\n",
    "embeddings_model = HuggingFaceEmbeddings(model_name = 'all-MiniLM-L6-v2')"
   ]
  },
  {
   "cell_type": "markdown",
   "metadata": {},
   "source": [
    "# Initializing Vector Store\n",
    "From langchain core, currently I will use the in memory Vector Store. Later on will choose one of FAISS, Pinecone, ChromaDB, PGVector, ..."
   ]
  },
  {
   "cell_type": "code",
   "execution_count": 7,
   "metadata": {
    "vscode": {
     "languageId": "shellscript"
    }
   },
   "outputs": [
    {
     "name": "stdout",
     "output_type": "stream",
     "text": [
      "Note: you may need to restart the kernel to use updated packages.\n"
     ]
    }
   ],
   "source": [
    "pip install -qU langchain-core"
   ]
  },
  {
   "cell_type": "code",
   "execution_count": 8,
   "metadata": {},
   "outputs": [],
   "source": [
    "from langchain_core.vectorstores import InMemoryVectorStore\n",
    "\n",
    "vector_store = InMemoryVectorStore(embeddings_model)"
   ]
  },
  {
   "cell_type": "markdown",
   "metadata": {},
   "source": [
    "# Creating the RAG Pipeline"
   ]
  },
  {
   "cell_type": "markdown",
   "metadata": {},
   "source": [
    "## Importing the libraries"
   ]
  },
  {
   "cell_type": "code",
   "execution_count": 9,
   "metadata": {},
   "outputs": [
    {
     "name": "stderr",
     "output_type": "stream",
     "text": [
      "USER_AGENT environment variable not set, consider setting it to identify your requests.\n"
     ]
    }
   ],
   "source": [
    "import bs4\n",
    "from langchain import hub\n",
    "from langchain_community.document_loaders import WebBaseLoader\n",
    "from langchain_core.documents import Document\n",
    "from langchain_text_splitters import RecursiveCharacterTextSplitter\n",
    "from langgraph.graph import START, StateGraph\n",
    "from typing import List, TypedDict"
   ]
  },
  {
   "cell_type": "code",
   "execution_count": 10,
   "metadata": {},
   "outputs": [],
   "source": [
    "# Setting the USER_AGENT Environment Variable\n",
    "if not os.environ.get('USER_AGENT'):\n",
    "    os.environ['USER_AGENT'] = 'FinanceAgent-1.0'"
   ]
  },
  {
   "cell_type": "markdown",
   "metadata": {},
   "source": [
    "## Web Scrapping the content"
   ]
  },
  {
   "cell_type": "code",
   "execution_count": 11,
   "metadata": {},
   "outputs": [
    {
     "name": "stdout",
     "output_type": "stream",
     "text": [
      "[Document(metadata={'source': 'https://www.cnbc.com/2025/02/27/stock-market-today-live-updates.html'}, page_content=''), Document(metadata={'source': 'https://apnews.com/article/stocks-markets-rates-tariffs-ai-a80355efea6fd7454df04d68cf3a79a1'}, page_content='\\n\\n\\nBusiness\\nStock market today: Wall Street rallies, and Dow jumps 600 to make a dreary February not so bad\\n\\n\\n\\n\\n\\nStock market today: Wall Street rallies, and Dow jumps 600 to make a dreary February not so bad\\n\\n\\n\\n\\n\\n\\n\\n\\n\\n\\n\\n\\n\\n\\n\\n\\n\\n\\n\\n\\n\\n\\n\\n\\n1 of 5\\xa0|\\xa0\\nThe New York Stock Exchange is seen in New York, Wednesday, Feb. 26, 2025. (AP Photo/Seth Wenig)\\nRead More\\n\\n\\n\\n\\n\\n\\n\\n\\n\\n\\n\\n\\n\\n\\n\\n\\n\\n\\n\\n\\n\\n\\n\\n\\n\\n\\n2 of 5\\xa0|\\xa0\\nAn American flag is displayed on the outside of the New York Stock Exchange in New York, Wednesday, Feb. 26, 2025. (AP Photo/Seth Wenig)\\nRead More\\n\\n\\n\\n\\n\\n\\n\\n\\n\\n\\n\\n\\n\\n\\n\\n\\n\\n\\n\\n\\n\\n\\n\\n\\n\\n\\n3 of 5\\xa0|\\xa0\\nA person walks in front of an electronic stock board showing Japan’s Nikkei index at a securities firm Friday, Feb. 28, 2025, in Tokyo. (AP Photo/Eugene Hoshiko)\\nRead More\\n\\n\\n\\n\\n\\n\\n\\n\\n\\n\\n\\n\\n\\n\\n\\n\\n\\n\\n\\n\\n\\n\\n\\n\\n\\n\\n4 of 5\\xa0|\\xa0\\nPeople stand in front of an electronic stock board showing Japan’s Nikkei index at a securities firm Friday, Feb. 28, 2025, in Tokyo. (AP Photo/Eugene Hoshiko)\\nRead More\\n\\n\\n\\n\\n\\n\\n\\n\\n\\n\\n\\n\\n\\n\\n\\n\\n\\n\\n\\n\\n\\n\\n\\n\\n\\n\\n5 of 5\\xa0|\\xa0\\nPeople stand in front of an electronic stock board showing Japan’s Nikkei index at a securities firm Friday, Feb. 28, 2025, in Tokyo. (AP Photo/Eugene Hoshiko)\\nRead More\\n\\n\\n\\n\\n\\n\\n\\n\\n\\n\\n\\n\\n\\n            By\\xa0\\n            STAN CHOE\\n\\n\\n\\n\\xa0\\n\\n\\n\\n\\nShare\\n\\n\\n\\n                    Share\\n                    \\n\\n\\n\\n\\n\\n\\n\\n\\n\\nCopy\\nLink copied\\n\\n\\n\\n\\n\\n\\n\\n\\n\\n        Email\\n    \\n\\n\\n \\n\\n\\n\\n\\n\\nFacebook\\n\\n\\n\\n\\n\\n\\nX\\n\\n\\n\\n\\n\\n\\n\\n\\nReddit\\n\\n\\n\\n\\n\\nLinkedIn\\n\\n\\n\\n\\n\\nPinterest\\n\\n\\n\\n\\n\\n\\nFlipboard\\n\\n\\n\\n\\n\\n\\n\\n\\n        Print\\n    \\n\\n\\n\\n\\n\\n\\n\\n\\n\\n\\n\\n\\n\\n\\n\\nNEW YORK (AP) — U.S. stocks rallied on Friday to close out their dreary February on a brighter note.The S&P 500 jumped 1.6% to trim its loss for the month, enough to make it the worst only since December instead of since April. It had dropped in five of the prior six days after weaker-than-expected reports on the economy  and worries about President Donald Trump’s tariffs knocked the index off its all-time high  set last week.The Dow Jones Industrial Average rose 601 points, or 1.4%, and the Nasdaq composite climbed 1.6%.Much of the recent damage had focused on the market’s biggest winners of recent years, whose momentum had seemed nearly impossible to stop at times. Stocks that flew in the frenzy around artificial-intelligence  technology slumped sharply, for example. Bitcoin, meanwhile, dropped more than 20% from its record.Many of those beaten-down areas of the market jumped Friday to recover some of their losses. Nvidia, which has become one of the market’s most influential stocks, rose 4% following its 8.5% tumble Thursday and was the strongest force lifting the S&P 500. Bitcoin bounced back above $84,000 after falling below $79,000 during the morning.\\n\\nStocks rose following an economic report  released in the morning that included both some encouraging and discouraging trends\\n\\n\\n\\n\\n\\n\\n\\n                    RELATED COVERAGE\\n                \\n\\n\\n\\n\\n\\n\\n\\n\\n\\n\\n\\n\\n\\n\\n\\n\\n\\n\\nAmerica First? Not when it comes to stock markets worldwide this year\\n\\n\\n\\n\\n\\n\\n\\n\\n\\n\\n\\n\\n\\n\\n\\n\\n\\n\\n\\n\\nStock market today: Wall Street falls sharply as Nvidia tumbles 8.5% and AI mania falters\\n\\n\\n\\n\\n\\n\\n\\n\\n\\n\\n\\n\\n\\n\\n\\n\\n\\n\\n\\n\\nNvidia posted another strong quarterly report. What to know, by the numbers\\n\\n\\n\\n\\n\\n\\n\\n\\n\\nInflation across the country decelerated a bit and behaved pretty much exactly as economists expected, according to the measure that the Federal Reserve prefers to use. That’s good news for the entire market because it could give the Federal Reserve leeway to continue cutting its main interest rate at some point later this year. \\n\\n\\n\\n\\n\\n\\n\\n\\n\\n\\n\\n\\nThat, in turn, could help goose the economy. The Fed has been keeping rates on hold so far this year after cutting them sharply late last year, in large part because of concerns about potentially stubborn inflation. But Friday’s report also said that U.S. households pulled back on their spending during January. That’s dangerous because their strong spending has been a major reason the U.S. economy has avoided a recession despite high interest rates. \\n\\nU.S. consumers had already given big hints they’re under pressure and worried. Inflation is still high, even if it’s not as bad as its peak from 2022, and a widespread worry is that tariffs announced by Trump could push prices for the cost of living even higher. Wall Street hopes that all the talk about tariffs are merely a tool Trump is using to negotiate with other countries and that he’ll ultimately pull back on them, which would mean less pain for the global economy than initially feared. But recent reports have nevertheless shown all the talk has already pushed U.S. consumers to brace for much higher inflation in the future. At some point, such worries could drive their behavior, which could drag on the economy even without tariffs.All the uncertainty around not only tariffs but also deregulation and other potential moves could mean “if the market doesn’t see Trump moving towards more market-friendly policies, the level of trust could continue eroding,” Bank of America economists wrote in a BofA Global Research report.\\n\\nOf course, much of January’s drop in spending by U.S. households could have been the simple result of painfully cold weather around the country and other anomalies. But it also followed several signals of slowing growth for the U.S. economy, which closed 2024 running at a solid pace.Most stocks within the S&P 500 rose on Friday, led by AES after the energy company reported profit for the latest quarter that blew past analysts’ expectations. CEO Andrés Gluski also said it’s seeing strong demand from AI data centers and new U.S. manufacturing plants, and AES stock jumped 11.7%. Signet Jewelers rose 5.2% after an investment firm, Select Equity Group, amassed a nearly 10% ownership stake in the retailer and said it’s pushing the board to sell the company or find another way to boost its stock price. They helped offset a 4.7% drop for Dell, which reported stronger profit for the latest quarter than analysts expected but fell short on its revenue. \\n\\nAll told, the S&P 500 rose 92.93 points to 5,954.50. The Dow Jones Industrial Average gained 601.41 to 43,840.91, and the Nasdaq composite jumped 302.86 to 18,847.28.In the bond market, Treasury yields sank again following the data on consumer spending and inflation. The yield on the 10-year Treasury fell to 4.20% from 4.26% late Thursday. It’s down sharply from last month, when it was approaching 4.80%, as worries have grown about where the U.S. economy is heading. In stock markets abroad, indexes fell sharply in Asia as worries about tariffs continued. China’s Commerce Ministry issued a statement Friday protesting Trump’s decision to double tariffs on Chinese products to 20%, saying it violated international trade rules and would add to the “burden on American companies and consumers and undermine the stability of the global industrial chain.”Indexes tumbled 3.3% in Hong Kong, 2% in Shanghai, 3.4% in Seoul and 2.9% in Tokyo. ___AP Business Writers Matt Ott and Elaine Kurtenbach contributed. \\n\\n\\n\\n\\n\\n\\n\\n\\n\\n\\n\\n\\n\\n\\n\\n\\n\\n\\n\\n\\n\\n\\n\\n\\n                    Most read\\n                \\n\\n\\n\\n\\n\\n\\n\\n\\n\\n\\n\\n\\n\\n\\n\\n\\n\\n\\n\\n\\n\\n\\n\\nWhat US lawmakers are saying about the White House clash between Trump and Zelenskyy\\n\\n\\n\\n\\n\\n\\n\\n\\n\\n\\nNo new bombshells in Justice Department’s release of Jeffrey Epstein files\\n\\n\\n\\n\\n\\n\\n\\n\\n\\n\\nOscar-winner Gene Hackman, wife Betsy Arakawa and their dog were dead for some time, warrant shows\\n\\n\\n\\n\\n\\n\\n\\n\\n\\n\\nZelenskyy leaves White House without signing minerals deal after Oval Office blowup\\n\\n\\n\\n\\n\\n\\n\\n\\n\\n\\nGene Hackman and his wife tested negative for carbon monoxide, sheriff says\\n\\n\\n\\n\\n\\n\\n\\n\\n\\n\\n\\n\\n')]\n"
     ]
    }
   ],
   "source": [
    "# Defining web scrapping content from the web\n",
    "loader = WebBaseLoader(\n",
    "    web_paths = (\n",
    "        'https://www.cnbc.com/2025/02/27/stock-market-today-live-updates.html',\n",
    "        'https://apnews.com/article/stocks-markets-rates-tariffs-ai-a80355efea6fd7454df04d68cf3a79a1'\n",
    "    ),\n",
    "    bs_kwargs = dict(\n",
    "        parse_only = bs4.SoupStrainer(\n",
    "            class_ = ('BrandPageWrapper-contentWrapper', 'Page-content')\n",
    "        )\n",
    "    ),\n",
    ")\n",
    "\n",
    "# Loading the scrapped content\n",
    "docs = loader.load()\n",
    "print(docs)"
   ]
  },
  {
   "cell_type": "markdown",
   "metadata": {},
   "source": [
    "## Splitting the loaded data from web scrapping"
   ]
  },
  {
   "cell_type": "code",
   "execution_count": 12,
   "metadata": {},
   "outputs": [],
   "source": [
    "# Defining the splitter\n",
    "text_splitter = RecursiveCharacterTextSplitter(chunk_size = 1000, chunk_overlap = 200)\n",
    "\n",
    "# Splitting the documents\n",
    "all_splits = text_splitter.split_documents(docs)"
   ]
  },
  {
   "cell_type": "markdown",
   "metadata": {},
   "source": [
    "## Indexing/Storing the chunks"
   ]
  },
  {
   "cell_type": "code",
   "execution_count": 13,
   "metadata": {},
   "outputs": [],
   "source": [
    "_ = vector_store.add_documents(documents = all_splits)"
   ]
  },
  {
   "cell_type": "markdown",
   "metadata": {},
   "source": [
    "## Defining the Prompt for question Answering"
   ]
  },
  {
   "cell_type": "code",
   "execution_count": 14,
   "metadata": {},
   "outputs": [
    {
     "name": "stdout",
     "output_type": "stream",
     "text": [
      "input_variables=['context', 'question'] input_types={} partial_variables={} metadata={'lc_hub_owner': 'rlm', 'lc_hub_repo': 'rag-prompt', 'lc_hub_commit_hash': '50442af133e61576e74536c6556cefe1fac147cad032f4377b60c436e6cdcb6e'} messages=[HumanMessagePromptTemplate(prompt=PromptTemplate(input_variables=['context', 'question'], input_types={}, partial_variables={}, template=\"You are an assistant for question-answering tasks. Use the following pieces of retrieved context to answer the question. If you don't know the answer, just say that you don't know. Use three sentences maximum and keep the answer concise.\\nQuestion: {question} \\nContext: {context} \\nAnswer:\"), additional_kwargs={})]\n"
     ]
    }
   ],
   "source": [
    "# Defining the prompt for question-answering use case\n",
    "prompt = hub.pull('rlm/rag-prompt')\n",
    "\n",
    "print(prompt)"
   ]
  },
  {
   "cell_type": "markdown",
   "metadata": {},
   "source": [
    "## Defining the State Class"
   ]
  },
  {
   "cell_type": "code",
   "execution_count": 15,
   "metadata": {},
   "outputs": [],
   "source": [
    "# States class comprises of 3 attributes :\n",
    "# 1. question (Input)\n",
    "# 2. context (Input)\n",
    "# 3. answer (Output)\n",
    "class State(TypedDict):\n",
    "    question: str\n",
    "    context: List[Document]\n",
    "    answer: str"
   ]
  },
  {
   "cell_type": "markdown",
   "metadata": {},
   "source": [
    "## Defining application steps"
   ]
  },
  {
   "cell_type": "code",
   "execution_count": 16,
   "metadata": {},
   "outputs": [],
   "source": [
    "def retrieve(state: State) -> dict:\n",
    "    retrieved_docs = vector_store.similarity_search(state['question'])\n",
    "    return {'context': retrieved_docs}\n",
    "\n",
    "def generate(state: State) -> dict:\n",
    "    docs_content = '\\n\\n'.join([doc.page_content for doc in state['context']])\n",
    "    messages = prompt.invoke({'question': state['question'], 'context': docs_content})\n",
    "    response = llm.invoke(messages)\n",
    "    return {'answer': response.content}"
   ]
  },
  {
   "cell_type": "markdown",
   "metadata": {},
   "source": [
    "## Compiling the RAG piepline"
   ]
  },
  {
   "cell_type": "code",
   "execution_count": 17,
   "metadata": {},
   "outputs": [],
   "source": [
    "# Defining the state graph for the input question, retrieved documents and the answer\n",
    "graph_builder = StateGraph(State).add_sequence([retrieve, generate])\n",
    "# Adding an edge from the START state to the retrieve state\n",
    "graph_builder.add_edge(START, \"retrieve\")\n",
    "# Compiling the graph\n",
    "graph = graph_builder.compile()"
   ]
  },
  {
   "cell_type": "markdown",
   "metadata": {},
   "source": [
    "## Testing the RAG Model"
   ]
  },
  {
   "cell_type": "code",
   "execution_count": 20,
   "metadata": {},
   "outputs": [
    {
     "name": "stdout",
     "output_type": "stream",
     "text": [
      "<class 'langgraph.graph.state.CompiledStateGraph'>\n"
     ]
    }
   ],
   "source": [
    "print(type(graph))"
   ]
  },
  {
   "cell_type": "code",
   "execution_count": 18,
   "metadata": {},
   "outputs": [
    {
     "name": "stdout",
     "output_type": "stream",
     "text": [
      "According to the context, stocks rose following an economic report released in the morning, with the S&P 500 jumping 1.6% and the Dow Jones Industrial Average rising 601 points.\n"
     ]
    }
   ],
   "source": [
    "question = \"What is happening in the stock market today?\"\n",
    "response = graph.invoke({'question': question})\n",
    "\n",
    "print(response['answer'])"
   ]
  },
  {
   "cell_type": "code",
   "execution_count": 31,
   "metadata": {},
   "outputs": [
    {
     "name": "stdout",
     "output_type": "stream",
     "text": [
      "Bear.\n"
     ]
    }
   ],
   "source": [
    "question = \"What is the sentiment of the market in 1 word?\"\n",
    "response = graph.invoke({'question': question})\n",
    "\n",
    "print(response['answer'])"
   ]
  },
  {
   "cell_type": "code",
   "execution_count": 32,
   "metadata": {},
   "outputs": [
    {
     "name": "stdout",
     "output_type": "stream",
     "text": [
      "Bearish.\n"
     ]
    }
   ],
   "source": [
    "question = 'What was the sentiment before today in the market in 1 word?'\n",
    "response = graph.invoke({'question': question})\n",
    "\n",
    "print(response['answer'])"
   ]
  },
  {
   "cell_type": "code",
   "execution_count": 33,
   "metadata": {},
   "outputs": [
    {
     "name": "stdout",
     "output_type": "stream",
     "text": [
      "I don't know. The provided context does not mention football or any information about how it is played. It appears to be a news article about the stock market and economics.\n"
     ]
    }
   ],
   "source": [
    "question = 'What is Football and how is it played?'\n",
    "\n",
    "response = graph.invoke({'question': question})\n",
    "print(response['answer'])"
   ]
  }
 ],
 "metadata": {
  "kernelspec": {
   "display_name": "Finance_Chatbot",
   "language": "python",
   "name": "python3"
  },
  "language_info": {
   "codemirror_mode": {
    "name": "ipython",
    "version": 3
   },
   "file_extension": ".py",
   "mimetype": "text/x-python",
   "name": "python",
   "nbconvert_exporter": "python",
   "pygments_lexer": "ipython3",
   "version": "3.9.21"
  }
 },
 "nbformat": 4,
 "nbformat_minor": 2
}
