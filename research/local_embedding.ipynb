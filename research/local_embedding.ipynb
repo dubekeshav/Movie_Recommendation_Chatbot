{
 "cells": [
  {
   "cell_type": "code",
   "execution_count": 5,
   "metadata": {},
   "outputs": [],
   "source": [
    "import faiss\n",
    "import numpy as np\n",
    "import pandas as pd\n",
    "from sentence_transformers import SentenceTransformer\n",
    "import csv\n"
   ]
  },
  {
   "cell_type": "code",
   "execution_count": 7,
   "metadata": {},
   "outputs": [],
   "source": [
    "\n",
    "# Load movie data\n",
    "file_path = \"/Users/mohitbhoir/Git/Movie_Recommendation_Chatbot/constant/output_movies_copy.txt\"\n",
    "df = pd.read_csv(file_path, sep=\"^\", quoting=csv.QUOTE_ALL)\n",
    "# Ensure no NaN values in primaryTitle\n",
    "df[\"primaryTitle\"] = df[\"primaryTitle\"].fillna(\"\").astype(str)\n",
    "\n",
    "# Initialize embedding model\n",
    "model = SentenceTransformer(\"all-MiniLM-L6-v2\")\n",
    "\n",
    "# Generate embeddings\n",
    "embeddings = np.array([model.encode(title) for title in df[\"primaryTitle\"]])"
   ]
  },
  {
   "cell_type": "code",
   "execution_count": 8,
   "metadata": {},
   "outputs": [],
   "source": [
    "# Initialize FAISS index (L2 normalization for cosine similarity)\n",
    "d = embeddings.shape[1]  # Dimension of embeddings\n",
    "index = faiss.IndexFlatL2(d)\n",
    "index.add(embeddings)  # Add vectors to FAISS"
   ]
  },
  {
   "cell_type": "code",
   "execution_count": 13,
   "metadata": {},
   "outputs": [
    {
     "name": "stdout",
     "output_type": "stream",
     "text": [
      "Index size (bytes): 7680000\n",
      "Index size (MB): 7.32\n",
      "Index size (GB): 0.01\n",
      "\n",
      "\n",
      "Index size (bytes) using sys.getsizeof: 48\n"
     ]
    }
   ],
   "source": [
    "import sys\n",
    "# Method 2: Calculating memory usage directly (more precise)\n",
    "vector_size_bytes = embeddings.dtype.itemsize * d  # Size of a single vector in bytes\n",
    "total_vectors = embeddings.shape[0]\n",
    "total_index_size_bytes = vector_size_bytes * total_vectors\n",
    "#If you are using an index that stores other data, you will need to account for it.\n",
    "print(f\"Index size (bytes): {total_index_size_bytes}\")\n",
    "print(f\"Index size (MB): {total_index_size_bytes / (1024 * 1024):.2f}\")\n",
    "print(f\"Index size (GB): {total_index_size_bytes / (1024 * 1024 * 1024):.2f}\")\n",
    "print(f\"\\n\\nIndex size (bytes) using sys.getsizeof: {sys.getsizeof(index)}\")\n"
   ]
  },
  {
   "cell_type": "code",
   "execution_count": 11,
   "metadata": {},
   "outputs": [],
   "source": [
    "# Define a search function\n",
    "def query_movie(query_text, top_k=5):\n",
    "    query_embedding = model.encode(query_text).reshape(1, -1)\n",
    "    distances, indices = index.search(query_embedding, top_k)\n",
    "    results = df.iloc[indices[0]]  # Retrieve matching movies\n",
    "    return results"
   ]
  },
  {
   "cell_type": "code",
   "execution_count": 12,
   "metadata": {},
   "outputs": [
    {
     "name": "stdout",
     "output_type": "stream",
     "text": [
      "Query results:\n",
      "         tconst titleType           primaryTitle           originalTitle  \\\n",
      "476   tt0175142     movie            Scary Movie             Scary Movie   \n",
      "2554  tt0244941     movie             Horror 101              Horror 101   \n",
      "3323  tt0257106     movie          Scary Movie 2           Scary Movie 2   \n",
      "2165  tt0238276     movie  Home the Horror Story  Home: The Horror Story   \n",
      "237   tt0154605     movie            Home Movies             Home Movies   \n",
      "\n",
      "      isAdult  startYear  endYear runtimeMinutes             genres  \\\n",
      "476      True     2000.0      NaN             88             Comedy   \n",
      "2554     True     2001.0      NaN             89             Horror   \n",
      "3323     True     2001.0      NaN             83      Comedy,Horror   \n",
      "2165     True     2000.0      NaN             86      Comedy,Horror   \n",
      "237      True     2000.0      NaN             \\N  Documentary,Music   \n",
      "\n",
      "      averageRating  numVotes  \\\n",
      "476             6.3  300465.0   \n",
      "2554            3.4     338.0   \n",
      "3323            5.4  181584.0   \n",
      "2165            5.5      68.0   \n",
      "237             7.8      11.0   \n",
      "\n",
      "                                                  actor  \\\n",
      "476   Jon Abrahams,Marlon Wayans,Dave Sheridan,Frank...   \n",
      "2554  Josh Holland,Michael Moon,Scott Rinker,Justin ...   \n",
      "3323  Marlon Wayans,Antony Acker,Mark Barrett,Richar...   \n",
      "2165  Richard Beymer,Ed Wasser,Sam Nelson,Gerald McC...   \n",
      "237                                                 NaN   \n",
      "\n",
      "                                                actress              director  \\\n",
      "476             Anna Faris,Carmen Electra,Leanne Santos   Keenen Ivory Wayans   \n",
      "2554  Brigitta Dau,Lisa Gordon,Paityn James,Bo Derek...  James Glenn Dudelson   \n",
      "3323  Anna Faris,Suzanne Bianqui,Joann Connor,Suzann...   Keenen Ivory Wayans   \n",
      "2165  Grace Zabriskie,Tracy Nelson,Nicolette Little,...     Temístocles López   \n",
      "237                                                 NaN            Ray Davies   \n",
      "\n",
      "                       producer  \\\n",
      "476   Eric L. Gold,Lee R. Mayes   \n",
      "2554       James Glenn Dudelson   \n",
      "3323               Eric L. Gold   \n",
      "2165             Richard Weaver   \n",
      "237                         NaN   \n",
      "\n",
      "                                                 writer  \n",
      "476   Shawn Wayans,Marlon Wayans,Buddy Johnson,Phil ...  \n",
      "2554        Daniel Miller,Jenny McPhee,Valorie Connally  \n",
      "3323  Shawn Wayans,Marlon Wayans,Buddy Johnson,Phil ...  \n",
      "2165                                  Temístocles López  \n",
      "237                                                 NaN  \n"
     ]
    }
   ],
   "source": [
    "# Test the query function\n",
    "query_text = \"horror movies\"\n",
    "results = query_movie(query_text)\n",
    "print(\"Query results:\")\n",
    "print(results)"
   ]
  }
 ],
 "metadata": {
  "kernelspec": {
   "display_name": "Python 3",
   "language": "python",
   "name": "python3"
  },
  "language_info": {
   "codemirror_mode": {
    "name": "ipython",
    "version": 3
   },
   "file_extension": ".py",
   "mimetype": "text/x-python",
   "name": "python",
   "nbconvert_exporter": "python",
   "pygments_lexer": "ipython3",
   "version": "3.13.2"
  }
 },
 "nbformat": 4,
 "nbformat_minor": 2
}
